{
 "cells": [
  {
   "cell_type": "markdown",
   "metadata": {},
   "source": [
    "# Assignment A2 [40 marks]\n",
    "\n",
    "The assignment consists of 3 exercises. Each exercise may contain coding and/or discussion questions.\n",
    "- Type your **code** in the **code cells** provided below each question.\n",
    "- For **discussion** questions, use the **Markdown cells** provided below each question, indicated by 📝. Double-click these cells to edit them, and run them to display your Markdown-formatted text. Please refer to the Week 1 tutorial notebook for Markdown syntax."
   ]
  },
  {
   "cell_type": "markdown",
   "metadata": {},
   "source": [
    "---\n",
    "## Question 1: Numerical Differentiation [10 marks]\n",
    "\n",
    "A general $N$-point finite difference approximation of the derivative $F' \\left( x \\right)$ of a sufficiently smooth function $F \\left( x \\right)$ can be written as\n",
    "\n",
    "$$\n",
    "F' \\left( x \\right) \\approx \\frac{1}{\\Delta x} \\sum_{i = 1}^N \\alpha_i F \\left( x + \\beta_i \\Delta x \\right),\n",
    "\\qquad \\qquad \\qquad (1)\n",
    "$$\n",
    "\n",
    "with step size $\\Delta x > 0$, and $\\alpha_i, \\beta_i \\in \\mathbb{Q}$, with $\\beta_i \\neq \\beta_j$ for $i\\neq j$. For example, the centred difference approximation $D_C(x)$ seen in the course has $N = 2$, and\n",
    "\n",
    "$$\n",
    "\\begin{cases}\n",
    "\\alpha_1 = \\frac{1}{2}, &\\alpha_2 = -\\frac{1}{2}, \\\\\n",
    "\\beta_1 = 1, &\\beta_2 = -1,\n",
    "\\end{cases}\n",
    "\\qquad\n",
    "\\text{giving} \\quad\n",
    "F'(x) \\approx \\frac{1}{2\\Delta x} \\left(F\\left(x + \\Delta x\\right) - F\\left(x - \\Delta x\\right)\\right).\n",
    "$$\n",
    "\n",
    "**1.1** Consider another finite difference approximation defined as in $(1)$, this time with $N=3$, and\n",
    "\n",
    "$$\n",
    "\\begin{cases}\n",
    "\\alpha_1 = -\\frac{4}{23}, &\\alpha_2 = -\\frac{9}{17}, &\\alpha_3 = \\frac{275}{391} \\\\\n",
    "\\beta_1 = -\\frac{3}{2}, &\\beta_2 = -\\frac{1}{3}, &\\beta_2 = \\frac{4}{5}\n",
    "\\end{cases}.\n",
    "$$\n",
    "\n",
    "Investigate the accuracy of this approximation.\n",
    "\n",
    "**[5 marks]**\n"
   ]
  },
  {
   "cell_type": "markdown",
   "metadata": {},
   "source": [
    "First we take the Taylor expansion of $F(x - \\frac{3}{2}\\Delta x)$, $F(x - \\frac{1}{3}\\Delta x)$, $F(x + \\frac{4}{5}\\Delta x)$ about $x$:\n",
    "\n",
    "$$ F \\left( x -\\frac{3}{2}\\Delta x \\right) = F \\left( x \\right) - \\frac{3}{2}\\Delta x F' \\left( x \\right) + \\frac{9\\Delta x^2}{8} F'' \\left( x \\right) - \\frac{9\\Delta x^3}{16} F'''\\left(x\\right) + O(\\Delta x ^4) $$\n",
    "\n",
    "$$ F \\left( x -\\frac{1}{3}\\Delta x \\right) = F \\left( x \\right) - \\frac{1}{3}\\Delta x F' \\left( x \\right) + \\frac{\\Delta x^2}{18} F'' \\left( x \\right) - \\frac{\\Delta x^3}{162} F'''\\left(x\\right) + O(\\Delta x ^4) $$\n",
    "\n",
    "$$ F \\left( x +\\frac{4}{5}\\Delta x \\right) = F \\left( x \\right) + \\frac{4}{5}\\Delta x F' \\left( x \\right) + \\frac{8\\Delta x^2}{25} F'' \\left( x \\right) + \\frac{32\\Delta x^3}{375} F'''\\left(x\\right) + O(\\Delta x ^4) $$\n",
    "\n",
    "Then we substitute the Taylor expansion of $F(x - \\frac{3}{2}\\Delta x)$, $F(x - \\frac{1}{3}\\Delta x)$, and $F(x + \\frac{4}{5}\\Delta x)$ above into the finite difference approximation $D_{F3}(x)$, we have\n",
    "\n",
    "\\begin{align} D_{F3}(x) &=\\frac{1}{\\Delta x}\\left( -\\frac{4}{23} F \\left( x -\\frac{3}{2}\\Delta x \\right) - \\frac{9}{17} F \\left( x -\\frac{1}{3}\\Delta x \\right) + \\frac{275}{391} F \\left( x +\\frac{4}{5}\\Delta x \\right) \\right)\\\\ &= \\frac{1}{\\Delta x}\\left( \\Delta x F' \\left( x \\right) +\\frac{29\\Delta x^3}{180} F'''\\left(x\\right) + O(\\Delta x ^4)\\right)\\\\ &=  F' \\left( x \\right) +  \\frac{29\\Delta x}{180} F''' \\left( x \\right) + O(\\Delta x^3)\\end{align}\n",
    "\n",
    "\n",
    "To get an approximation to $F'(x)$, we rearrange the above to make $F'(x)$ the subject :\n",
    "\n",
    "$$ F'(x) = D_{F3}(x) - \\frac{29\\Delta x}{180} F''' \\left( x \\right) - O(\\Delta x^3) = D_{F3}(x) - O(\\Delta x^2)$$\n",
    "\n",
    "The error is\n",
    "\n",
    "$$ D_{F3}(x) - F' \\left( x \\right) = O(\\Delta x^2), $$\n",
    "\n",
    "therefore $D_{F3}(x)$ is second order accurate.\n",
    "\n"
   ]
  },
  {
   "cell_type": "markdown",
   "metadata": {},
   "source": [
    "**1.2** For an arbitrary choice of $\\beta_i$ values, what is the minimum number of points $N_{p}$ required to find an approximation $(1)$ which is at least $p$th order accurate?\n",
    "\n",
    "*Hint:* consider the Taylor expansion of $F \\left( x + \\beta_i \\Delta x \\right)$ around $x$.\n",
    "\n",
    "**[3 marks]**\n",
    "\n",
    "For a sufficiently regular function $F$ and a small enough $\\Delta x$, consider the Taylor expansion of $F(x + \\beta_i \\Delta x)$ about $x$:\n",
    "\n",
    "\n",
    "$$\n",
    "  F \\left( x + \\beta_i  \\Delta x \\right) = F \\left( x \\right) + \\beta_i  \\Delta x F' \\left( x \\right) + \\frac{ \\beta_i \\Delta x^2}{2} F'' \\left( x \\right) + \\frac{ \\beta_i \\Delta x^3}{6} F'''\\left(x\\right) + \\dots\n",
    "$$\n",
    "\n",
    "Then we multiply $\\gamma_i$ on both sides of the Taylor expansion of $F(x + \\beta_i \\Delta x)$ about $x$:\n",
    "\n",
    "$$\\gamma_i F \\left( x + \\beta_i\\Delta x \\right) = \\gamma_i F \\left( x \\right) + \\gamma_i \\beta_i\\Delta x F' \\left( x \\right) + \\frac{\\gamma_i(\\beta_i\\Delta x)^2}{2} F'' \\left( x \\right) + \\frac{\\gamma_i(\\beta_i\\Delta x)^3}{6} F'''\\left(x\\right) + \\dots$$\n",
    "\n",
    "\n",
    "Assume the minimum number of points $N_{p}$ required to find an approximation $(1)$ is N and it is at least $p$th order accurate.\n",
    "$$\n",
    "  F \\left( x + \\beta_1  \\Delta x \\right) = F \\left( x \\right) + \\beta_1  \\Delta x F' \\left( x \\right) + \\frac{ \\beta_1 \\Delta x^2}{2} F'' \\left( x \\right) + \\frac{ \\beta_1 \\Delta x^3}{6} F'''\\left(x\\right) + \\dots$$\n",
    "\n",
    "$$ F \\left( x + \\beta_2  \\Delta x \\right) = F \\left( x \\right) + \\beta_2  \\Delta x F' \\left( x \\right) + \\frac{ \\beta_2 \\Delta x^2}{2} F'' \\left( x \\right) + \\frac{ \\beta_2 \\Delta x^3}{6} F'''\\left(x\\right) + \\dots\n",
    "$$\n",
    "\n",
    "To find an approxiamtion to $F' \\left( x \\right)$, we rearrange the above to make $F'(x)$ the subject : \n",
    "$$ F'(x) = \\frac{1}{\\beta_i \\Delta x}\\left( F \\left( x +\\beta_i\\Delta x \\right) - F \\left( x \\right) - \\frac{(\\beta_i\\Delta x)^2}{2} F'' \\left( x \\right) - \\frac{(\\beta_i\\Delta x)^3}{6} F'''  \\left( x \\right) - \\dots\\right) $$\n",
    "\n",
    "We construct N's $\\gamma$, for which  $\\sum_{i = 1}^N\\gamma_i $ equals to zero and  $\\sum_{i = 1}^N\\gamma_i\\beta_i $ doesn't equals to zero.\n",
    "\\begin{align}\n",
    "F' \\left( x \\right) = \\frac{\\sum_{i = 1}^N \\gamma_i\\frac{ F( x + \\beta_i \\Delta x)}{\\Delta x}}{\\sum_{i = 1}^N\\gamma_i\\beta_i} - \\frac{\\sum_{i = 1}^N\\gamma_i F(x)}{\\sum_{i = 1}^N\\gamma_i\\beta_i} -  \\frac{\\sum_{i = 1}^N \\gamma_i\\frac{ (\\beta_i)^2 \\Delta x)}{2}F''(x)}{\\sum_{i = 1}^N\\gamma_i\\beta_i} - \\frac{\\sum_{i = 1}^N \\gamma_i\\frac{ (\\beta_i)^3 (\\Delta x)^2)}{6}F'''(x)}{\\sum_{i = 1}^N\\gamma_i\\beta_i} - \\dots\\\\\n",
    "=\\sum_{i = 1}^N \\alpha_i \\frac{F \\left( x + \\beta_i \\Delta x \\right)}{\\Delta x} -\\sum_{i = 1}^N \\alpha_i \\frac{ (\\beta_i)^2 \\Delta x)}{2}F''(x) - \\sum_{i = 1}^N \\alpha_i \\frac{ (\\beta_i)^3 (\\Delta x)^2)}{6}F'''(x) - \\dots\n",
    "\\end{align}\n",
    "\n",
    "\n",
    "\n",
    "Given that it is at least $p$th order accurate, so we have:\n",
    "\\begin{align}\n",
    "\\sum_{i=1}^N\\gamma_i &= 0\\\\\n",
    "\\sum_{i=1}^N\\gamma_i \\beta_i& \\neq 0\\\\\n",
    "\\sum_{i=1}^N\\gamma_i(\\beta_i)^2 &= 0\\\\\n",
    "\\dots\\\\\n",
    "\\sum_{i=1}^N\\gamma_i (\\beta_i)^{p} &= 0\n",
    "\\end{align}\n",
    "\n",
    "So to satisfy these equations above, the number of $\\gamma_i$  should be $p+1$ at least. If not, all $\\gamma_i$ will be the same, which contradicts that $\\beta_i$ can not be same with each other. Therefore, the minimum number of points $N_{p}$ is $p+1$."
   ]
  },
  {
   "cell_type": "markdown",
   "metadata": {},
   "source": [
    "***📝 Discussion for question 1.2***"
   ]
  },
  {
   "cell_type": "markdown",
   "metadata": {},
   "source": [
    "**1.3** Using your reasoning from **1.2**, write a function `FD_coefficients()` which, given $N_p$ values $\\beta_i$, returns $N_p$ coefficients $\\alpha_i$ such that the approximation $(1)$ is at least $p$th order accurate.\n",
    "\n",
    "Use your function to obtain the coefficients $\\alpha_i$ from **1.1**.\n",
    "\n",
    "**[2 marks]**"
   ]
  },
  {
   "cell_type": "code",
   "execution_count": 90,
   "metadata": {},
   "outputs": [
    {
     "name": "stdout",
     "output_type": "stream",
     "text": [
      "The coefficients are [-0.17391304 -0.52941176  0.70332481]\n"
     ]
    }
   ],
   "source": [
    "import numpy as np\n",
    "import math\n",
    "\n",
    "def  FD_coefficients(beta_i):\n",
    "    Np = len(beta_i)\n",
    "    B = np.zeros([Np, Np])\n",
    "    # Use loop to construct a linear equation\n",
    "    for i in range (0, Np) :\n",
    "        for j in range (0, Np) :\n",
    "            B[j, i] = beta_i[i] ** j / math.factorial(j)\n",
    "    b = np.zeros(Np)\n",
    "    b[1] = 1\n",
    "    # Solving the linear equation\n",
    "    x = np.linalg.solve(B, b)\n",
    "    return x\n",
    "        \n",
    "beta_i = np.array([-3/2, -1/3, 4/5])\n",
    "alpha_i = FD_coefficients(beta_i)\n",
    "print('The coefficients are',alpha_i)\n"
   ]
  },
  {
   "cell_type": "markdown",
   "metadata": {},
   "source": [
    "---\n",
    "## Question 2: Root Finding [10 marks]\n",
    "\n",
    "Consider the following polynomial of cubic order,\n",
    "\n",
    "$$\n",
    "p(z) = z^3 + (c-1)z - c,\n",
    "$$\n",
    "where $c \\in \\mathbb{C}$.\n",
    "\n",
    "This polynomial is complex differentiable, and we can apply Newton's method to find a complex root $z_\\ast$, using a complex initial guess $z_0 = a_0 + ib_0$. In this problem, we seek to map the values of $z_0$ which lead to convergence to a root of $p$.\n",
    "\n",
    "**2.1** Write a function `complex_newton(amin, amax, bmin, bmax, c, N, eps, target_roots)` which implements Newton's method to find roots of $p(z)$ using $N^2$ initial guesses $z_0 = a_0 + ib_0$. The input arguments are as follows:\n",
    "\n",
    "- The real part $a_0$ of the initial guess should take `N` linearly spaced values between `amin` and `amax` (inclusive).\n",
    "- The imaginary part $b_0$ of the initial guess should take `N` linearly spaced values between `bmin` and `bmax` (inclusive).\n",
    "- `c` is the parameter $c \\in \\mathbb{C}$ in $p(z)$.\n",
    "- `eps` is the tolerance $\\varepsilon > 0$.\n",
    "- `target_root` takes one of the following values:\n",
    "    - if `target_root` is given as `None`, then convergence should be considered as achieved if Newton's method has converged to any root of $p$.\n",
    "    - if `target_root` is given as a number, then convergence should only be considered as achieved if Newton's method has converged to the specific root $z_\\ast =$ `target_root`.\n",
    "\n",
    "Your function should return an array `kmax` of size $N \\times N$, containing the total number of iterations required for convergence, for each value of $z_0$. You should decide what to do in case a particular value of $z_0$ doesn't lead to convergence.\n",
    "    \n",
    "Up to 2 marks will be given to solutions which iterate over each value of $z_0$. To obtain up to the full 4 marks, your implementation should be vectorised -- i.e. use a single loop to iterate Newton's method for all values of $z_0$ at once.\n",
    "\n",
    "**[4 marks]**"
   ]
  },
  {
   "cell_type": "code",
   "execution_count": 96,
   "metadata": {},
   "outputs": [],
   "source": [
    "import numpy as np\n",
    "\n",
    "def complex_newton(amin, amax, bmin, bmax, c, N, eps, target_roots):\n",
    "    # Check the parameter type\n",
    "    assert isinstance (N, int), 'N should be an integer'\n",
    "    # Check the parameter values    \n",
    "    assert amin < amax, 'amin should be smaller than amax'\n",
    "    assert bmin < bmax, 'bmin should be smaller than bmax'\n",
    "    assert N > 0, 'N should be bigger than zero'\n",
    "    assert eps > 0, 'eps should be bigger than zero'\n",
    "\n",
    "    def F(z, c):\n",
    "        return z ** 3 + (c-1) * z - c\n",
    "    def Fp(z, c):\n",
    "        return 3 * z ** 2 + c -1\n",
    "    def G(z, c):\n",
    "        return z - F(z, c) / Fp(z, c)\n",
    "    kmax = np.ones([N, N])\n",
    "    a0 = np.linspace(amin, amax, N)\n",
    "    b0 = np.linspace(bmin, bmax, N)\n",
    "    # Initialize z0\n",
    "    z0 = []\n",
    "    for i in range (0, N):\n",
    "        for j in range (0, N):\n",
    "            z0 = np.append(z0, complex(a0[i], b0[j]))\n",
    "    if target_roots == \"None\":\n",
    "        # Loop until convergence \n",
    "        for i in range (z0.shape[0]):\n",
    "            its = 0\n",
    "            z = z0[i]\n",
    "            # Fixed point iteration\n",
    "            while True:\n",
    "                its += 1\n",
    "                z_new = G(z, c)\n",
    "                # Convergence achieved\n",
    "                if abs(z_new - z) < eps or its > 50:\n",
    "                    if abs(z_new - z) < eps:\n",
    "                        kmax[i//N][i%N] = its\n",
    "                    else:\n",
    "                        kmax[i//N][i%N] = 0\n",
    "                    break\n",
    "                # Update value for next iteration\n",
    "                z = z_new\n",
    "        return kmax\n",
    "    else:\n",
    "        # Use a loop until convergence\n",
    "        for i in range (z0.shape[0]):\n",
    "            its = 0\n",
    "            z = z0[i]\n",
    "            while True:\n",
    "                its += 1\n",
    "                z_new = G(z, c)\n",
    "                # Convergence achieved\n",
    "                if abs(z_new - target_roots) < eps or its > 50:\n",
    "                    if abs(z_new - target_roots) < eps:\n",
    "                        kmax[i//N][i%N] = its\n",
    "                    else:\n",
    "                        kmax[i//N][i%N] = 0\n",
    "                    break\n",
    "                #Update for the next iteration\n",
    "                z = z_new\n",
    "        return kmax\n",
    " "
   ]
  },
  {
   "cell_type": "markdown",
   "metadata": {},
   "source": [
    "**2.2** For $c = 0$, $a_0 \\in [-5,5]$ and $b_0 \\in [-5,5]$, with at least $N = 200$ values for each (you can increase $N$ if your computer allows it), use your function `complex_newton()` to calculate, for each $z_0 = a_0 + ib_0$, the total number of iterates needed to reach a disk of radius $\\varepsilon$ around the root at $z = 1$. Present your results in a heatmap plot, with $a_0$ on the abscissa, $b_0$ on the ordinate and a colour map showing the total number of iterates. \n",
    "\n",
    "**[3 marks]**"
   ]
  },
  {
   "cell_type": "code",
   "execution_count": 97,
   "metadata": {},
   "outputs": [
    {
     "name": "stdout",
     "output_type": "stream",
     "text": [
      "[[ 0.  0.  0. ...  0.  0.  0.]\n",
      " [ 0.  0.  0. ...  0.  0.  0.]\n",
      " [ 0.  0.  0. ...  0.  0.  0.]\n",
      " ...\n",
      " [12. 12. 12. ... 12. 12. 12.]\n",
      " [12. 12. 12. ... 12. 12. 12.]\n",
      " [12. 12. 12. ... 12. 12. 12.]]\n"
     ]
    },
    {
     "data": {
      "image/png": "[encoded data removed]",
      "text/plain": [
       "<Figure size 432x288 with 2 Axes>"
      ]
     },
     "metadata": {
      "needs_background": "light"
     },
     "output_type": "display_data"
    }
   ],
   "source": [
    "import numpy as np\n",
    "import matplotlib.pyplot as plt\n",
    "import seaborn as sns\n",
    "import pandas as pd\n",
    "a0 = np.linspace(-5, 5, 211)\n",
    "b0 = np.linspace(-5, 5, 211)\n",
    "cat =complex_newton(-5, 5, -5, 5, 0, 211, 1e-10, 1)\n",
    "print (cat)\n",
    "    \n",
    "cat = pd.DataFrame(cat, columns = a0, index = b0)\n",
    "    \n",
    "fig = plt.figure()\n",
    "sns_plot = sns.heatmap(cat, xticklabels = 50, yticklabels = 50)\n",
    "sns_plot.tick_params(labelsize = 8)\n",
    "plt.show()"
   ]
  },
  {
   "cell_type": "markdown",
   "metadata": {},
   "source": [
    "**2.3** For $c = 0.32 + 1.64i$, map out the points $z_0$ for which Newton's method does not converge to any root. What does it do instead?\n",
    "\n",
    "*Hint:* Pick a point $z_0$ in a region where Newton's method does not converge and print out, say, 50 iterates. What do you observe?\n",
    "\n",
    "**[3 marks]**"
   ]
  },
  {
   "cell_type": "code",
   "execution_count": 88,
   "metadata": {},
   "outputs": [
    {
     "name": "stdout",
     "output_type": "stream",
     "text": [
      " The point z0 is  (4.186602870813397-3.325358851674641j)\n",
      " The 50 iterates that using Newton method are\n",
      "(2.8388851018399066-2.2451547778723184j)\n",
      "(2.8388851018399066-2.2451547778723184j)\n",
      "(2.8388851018399066-2.2451547778723184j)\n",
      "(2.8388851018399066-2.2451547778723184j)\n",
      "(2.8388851018399066-2.2451547778723184j)\n",
      "(2.8388851018399066-2.2451547778723184j)\n",
      "(2.8388851018399066-2.2451547778723184j)\n",
      "(2.8388851018399066-2.2451547778723184j)\n",
      "(2.8388851018399066-2.2451547778723184j)\n",
      "(2.8388851018399066-2.2451547778723184j)\n",
      "(2.8388851018399066-2.2451547778723184j)\n",
      "(2.8388851018399066-2.2451547778723184j)\n",
      "(2.8388851018399066-2.2451547778723184j)\n",
      "(2.8388851018399066-2.2451547778723184j)\n",
      "(2.8388851018399066-2.2451547778723184j)\n",
      "(2.8388851018399066-2.2451547778723184j)\n",
      "(2.8388851018399066-2.2451547778723184j)\n",
      "(2.8388851018399066-2.2451547778723184j)\n",
      "(2.8388851018399066-2.2451547778723184j)\n",
      "(2.8388851018399066-2.2451547778723184j)\n",
      "(2.8388851018399066-2.2451547778723184j)\n",
      "(2.8388851018399066-2.2451547778723184j)\n",
      "(2.8388851018399066-2.2451547778723184j)\n",
      "(2.8388851018399066-2.2451547778723184j)\n",
      "(2.8388851018399066-2.2451547778723184j)\n",
      "(2.8388851018399066-2.2451547778723184j)\n",
      "(2.8388851018399066-2.2451547778723184j)\n",
      "(2.8388851018399066-2.2451547778723184j)\n",
      "(2.8388851018399066-2.2451547778723184j)\n",
      "(2.8388851018399066-2.2451547778723184j)\n",
      "(2.8388851018399066-2.2451547778723184j)\n",
      "(2.8388851018399066-2.2451547778723184j)\n",
      "(2.8388851018399066-2.2451547778723184j)\n",
      "(2.8388851018399066-2.2451547778723184j)\n",
      "(2.8388851018399066-2.2451547778723184j)\n",
      "(2.8388851018399066-2.2451547778723184j)\n",
      "(2.8388851018399066-2.2451547778723184j)\n",
      "(2.8388851018399066-2.2451547778723184j)\n",
      "(2.8388851018399066-2.2451547778723184j)\n",
      "(2.8388851018399066-2.2451547778723184j)\n",
      "(2.8388851018399066-2.2451547778723184j)\n",
      "(2.8388851018399066-2.2451547778723184j)\n",
      "(2.8388851018399066-2.2451547778723184j)\n",
      "(2.8388851018399066-2.2451547778723184j)\n",
      "(2.8388851018399066-2.2451547778723184j)\n",
      "(2.8388851018399066-2.2451547778723184j)\n",
      "(2.8388851018399066-2.2451547778723184j)\n",
      "(2.8388851018399066-2.2451547778723184j)\n",
      "(2.8388851018399066-2.2451547778723184j)\n",
      "(2.8388851018399066-2.2451547778723184j)\n"
     ]
    }
   ],
   "source": [
    "# Initialization\n",
    "c = 0.32 + 1.64j\n",
    "N= 210 \n",
    "a0 = np.linspace(-5, 5, 210)\n",
    "b0 = np.linspace(-5, 5, 210)\n",
    "z0 = np.zeros([N, N], dtype = complex)\n",
    "\n",
    "for i in range(0,N) :\n",
    "    for k in range(0,N):\n",
    "        z0[i, k] = a0[i] + b0[k]*1j\n",
    "r0 = z0[192, 35]\n",
    "# Show the result \n",
    "print(' The point z0 is ', r0)\n",
    "print(' The 50 iterates that using Newton method are')        \n",
    "for k in range(50):\n",
    "    #Apply  the Newton method\n",
    "    r1 = (2 * r0 **3 + c) / (3 * r0 ** 2 + c - 1)\n",
    "    print(r1)\n"
   ]
  },
  {
   "cell_type": "markdown",
   "metadata": {},
   "source": [
    "***📝 Discussion for question 2.3***"
   ]
  },
  {
   "cell_type": "markdown",
   "metadata": {},
   "source": [
    "---\n",
    "## Question 3: Numerical Integration of an ODE [20 marks]\n",
    "\n",
    "Cardiac tissue is an example of an excitable medium, where a small stimulus can lead to a large response (a heart beat). The FitzHugh-Nagumo model describes the electrical activity of a single cardiac cell in terms of the transmembrane potential $u$ and a recovery variable $v$\n",
    "\n",
    "\\begin{align}\n",
    "        \\dot u & = f(u,v) = \\frac{1}{\\varepsilon} \\left( u - \\frac{u^3}{3} - v + I \\right) \\ , \\\\\n",
    "        \\dot v & = g(u,v) = \\varepsilon \\left( u - \\gamma v + \\beta \\right) \\ ,\n",
    "\\end{align}\n",
    "\n",
    "where $I$ (a stimulus), $\\varepsilon$, $\\gamma$, and $\\beta$ are known parameters.\n",
    "\n",
    "The equation for $u$ leads to fast dynamics with the possibility of excitation, while the linear term proportional to $-v$ in the equation for the recovery variable produces slower dynamics and negative feedback. The FitzHugh-Nagumo model is an example of a stiff differential equation, where the stiffness becomes more pronounced for smaller $\\varepsilon$.\n",
    "\n",
    "In questions **3.1**, **3.2**, and **3.3**, we take $\\varepsilon = 0.2$, $\\gamma = 0.8$, and $\\beta = 0.7$.\n",
    "\n",
    "\n",
    "**3.1** The fixed points, defined by $\\dot u = f(u, v) = 0$ and $\\dot v = g(u, v) = 0$, correspond to the state of a cell at rest. Write a function `resting_state()` to determine the values $(u_I^*, v_I^*)$ for the cell in its resting state for a given value of $I$ and a given initial guess $(u_{I, 0}, v_{I, 0})$, using Newton's method.\n",
    "\n",
    "Use your function to compute $(u_I^*, v_I^*)$ for $I=0$ and $I = 0.5$, with initial guess $(u_{I, 0}, v_{I, 0}) = (0.2, 0.2)$.\n",
    "\n",
    "\n",
    "**[5 marks]**"
   ]
  },
  {
   "cell_type": "code",
   "execution_count": 98,
   "metadata": {},
   "outputs": [
    {
     "name": "stdout",
     "output_type": "stream",
     "text": [
      "If I =0, the value at resting state is [-1.19940804 -0.62426004] with initial guess.\n",
      "If I =0.5, the value at resting state is [-0.80484775 -0.13105968] with initial guess.\n"
     ]
    }
   ],
   "source": [
    "import numpy as np\n",
    "def resting_state(u0, v0, I, gamma):\n",
    "    \n",
    "    \n",
    "#Define a nonlinear system\n",
    "def Fs(u, v, I, gamma):\n",
    "    return np.array([f(u, v, I), g(u, v, gamma)])\n",
    "\n",
    "def f(u, v, I):\n",
    "    return 1 / 0.2 * (u - u ** 3 / 3 - v + I)\n",
    "\n",
    "def g(u, v, gamma):\n",
    "    return 0.2 * (u - gamma * v + 0.7)\n",
    "\n",
    "def Jac(u, v, gamma):\n",
    "    #Initialize J\n",
    "    J = np.zeros([2,2])\n",
    "    #Define the jacobian matrix\n",
    "    J[0, 0] = 1 / 0.2 * (1 - u ** 2)\n",
    "    J[1, 0] = 0.2\n",
    "    J[0, 1] = -5\n",
    "    J[1, 1] = -0.16\n",
    "    return J\n",
    "\n",
    "def resting_state(u0, v0, I, gamma):\n",
    "    # Create the intial guess\n",
    "    x0 = np.array([u0, v0])\n",
    "    x = x0\n",
    "    #Use Newton's method \n",
    "    while np.linalg.norm(Fs(x[0], x[1], I, gamma)) > 1e-10:\n",
    "        e = -np.linalg.solve(Jac(x[0], x[1], gamma), Fs(x[0], x[1], I, gamma))\n",
    "        x += e\n",
    "    return x\n",
    "#Show the result for I = 0 and I=0.5 with initial guess\n",
    "print(f'If I =0, the value at resting state is {resting_state(0.2, 0.2, 0,0.8)} with initial guess.')\n",
    "print(f'If I =0.5, the value at resting state is {resting_state(0.2, 0.2, 0.5,0.8)} with initial guess.')\n"
   ]
  },
  {
   "cell_type": "markdown",
   "metadata": {},
   "source": [
    "**3.2** Using the method of your choice **\\***, compute the numerical solution $(u_n, v_n) \\approx (u(n\\Delta t), v(n\\Delta t)), n=0, 1, 2, \\dots$ for the FitzHugh-Nagumo model.\n",
    "\n",
    "You should compute the solution for both $I = 0$ and $I = 0.5$, starting at time $t = 0$ until at least $t = 100$, with $(u_0 = 0.8, v_0 = 0.8)$ as the initial condition.\n",
    "\n",
    "Present your results graphically by plotting\n",
    "\n",
    "(a) $u_n$ and $v_n$ with **time** (not time step) on the x-axis,  \n",
    "(b) $v_n$ as a function of $u_n$. This will show what we call the solution trajectories in *phase space*.\n",
    "\n",
    "You should format the plots so that the data presentation is clear and easy to understand.\n",
    "\n",
    "Given what this mathematical model describes, and given that $I$ represents a stimulus, how do you interpret your results for the two different values of $I$? Describe your observations in less than 200 words.\n",
    "\n",
    "\n",
    "**\\*** You may use e.g. the forward Euler method seen in Week 7 with a small enough time step, or use one of the functions provided by the `scipy.integrate` module, as seen in Quiz Q4.\n",
    "\n",
    "\n",
    "**[7 marks]**"
   ]
  },
  {
   "cell_type": "code",
   "execution_count": 99,
   "metadata": {},
   "outputs": [
    {
     "ename": "TypeError",
     "evalue": "f() missing 1 required positional argument: 'I'",
     "output_type": "error",
     "traceback": [
      "\u001b[0;31m---------------------------------------------------------------------------\u001b[0m",
      "\u001b[0;31mTypeError\u001b[0m                                 Traceback (most recent call last)",
      "\u001b[0;32m<ipython-input-99-4c0754f9169e>\u001b[0m in \u001b[0;36m<module>\u001b[0;34m\u001b[0m\n\u001b[1;32m      7\u001b[0m \u001b[0mI\u001b[0m \u001b[0;34m=\u001b[0m \u001b[0;36m0.0\u001b[0m\u001b[0;34m\u001b[0m\u001b[0;34m\u001b[0m\u001b[0m\n\u001b[1;32m      8\u001b[0m \u001b[0;32mfor\u001b[0m \u001b[0mi\u001b[0m \u001b[0;32min\u001b[0m \u001b[0mrange\u001b[0m\u001b[0;34m(\u001b[0m\u001b[0mlen\u001b[0m\u001b[0;34m(\u001b[0m\u001b[0mt\u001b[0m\u001b[0;34m)\u001b[0m\u001b[0;34m-\u001b[0m\u001b[0;36m1\u001b[0m\u001b[0;34m)\u001b[0m\u001b[0;34m:\u001b[0m\u001b[0;34m\u001b[0m\u001b[0;34m\u001b[0m\u001b[0m\n\u001b[0;32m----> 9\u001b[0;31m     \u001b[0mx\u001b[0m\u001b[0;34m[\u001b[0m\u001b[0;34m:\u001b[0m\u001b[0;34m,\u001b[0m \u001b[0mi\u001b[0m\u001b[0;34m+\u001b[0m\u001b[0;36m1\u001b[0m\u001b[0;34m]\u001b[0m \u001b[0;34m=\u001b[0m \u001b[0mx\u001b[0m\u001b[0;34m[\u001b[0m\u001b[0;34m:\u001b[0m\u001b[0;34m,\u001b[0m \u001b[0mi\u001b[0m\u001b[0;34m]\u001b[0m \u001b[0;34m+\u001b[0m \u001b[0mdelta_t\u001b[0m \u001b[0;34m*\u001b[0m \u001b[0mf\u001b[0m\u001b[0;34m(\u001b[0m\u001b[0mx\u001b[0m\u001b[0;34m[\u001b[0m\u001b[0;34m:\u001b[0m\u001b[0;34m,\u001b[0m \u001b[0mi\u001b[0m\u001b[0;34m]\u001b[0m\u001b[0;34m,\u001b[0m \u001b[0mI\u001b[0m\u001b[0;34m)\u001b[0m\u001b[0;34m\u001b[0m\u001b[0;34m\u001b[0m\u001b[0m\n\u001b[0m\u001b[1;32m     10\u001b[0m \u001b[0mu\u001b[0m \u001b[0;34m=\u001b[0m \u001b[0mx\u001b[0m\u001b[0;34m[\u001b[0m\u001b[0;36m0\u001b[0m\u001b[0;34m,\u001b[0m \u001b[0;34m:\u001b[0m\u001b[0;34m]\u001b[0m\u001b[0;34m\u001b[0m\u001b[0;34m\u001b[0m\u001b[0m\n\u001b[1;32m     11\u001b[0m \u001b[0mv\u001b[0m \u001b[0;34m=\u001b[0m \u001b[0mx\u001b[0m\u001b[0;34m[\u001b[0m\u001b[0;36m1\u001b[0m\u001b[0;34m,\u001b[0m \u001b[0;34m:\u001b[0m\u001b[0;34m]\u001b[0m\u001b[0;34m\u001b[0m\u001b[0;34m\u001b[0m\u001b[0m\n",
      "\u001b[0;31mTypeError\u001b[0m: f() missing 1 required positional argument: 'I'"
     ]
    }
   ],
   "source": [
    "# Define the initial parameters\n",
    "delta_t = 0.01\n",
    "t = np.linspace(0,100,int(100/delta_t))\n",
    "x = np.zeros([2,len(t)])\n",
    "x[:, 0] = np.array([0.8, 0.8])\n",
    "# Compute the numericai solution by using forward Euler method\n",
    "I = 0.0\n",
    "for i in range(len(t)-1): \n",
    "    x[:, i+1] = x[:, i] + delta_t * f(x[:, i], I)\n",
    "u = x[0, :]\n",
    "v = x[1, :]\n",
    "\n",
    "#plot the required figures\n",
    "plt.plot(t, u, '-', label = 'u(t)')\n",
    "plt.plot(t, v, '-', label = 'v(t)')\n",
    "#The legend is located at upper right of the plot \n",
    "plt.legend( loc=1)\n",
    "#Display the name for axis x and y \n",
    "plt.xlabel( 't')\n",
    "plt.ylabel( 'value')\n",
    "# Set the title\n",
    "plt.title('graph of u(t) and v(t) when I = 0')\n",
    "plt.show()\n"
   ]
  },
  {
   "cell_type": "markdown",
   "metadata": {},
   "source": [
    "***📝 Discussion for question 3.2***"
   ]
  },
  {
   "cell_type": "markdown",
   "metadata": {},
   "source": [
    "**3.3** Compute the eigenvalues of the Jacobi matrix\n",
    "        \n",
    "$$\n",
    "\\large\n",
    "\\begin{pmatrix}\n",
    "    \\frac{\\partial f}{\\partial u} & \\frac{\\partial f}{\\partial v} \\\\ \n",
    "    \\frac{\\partial g}{\\partial u} & \\frac{\\partial g}{\\partial v}\n",
    "\\end{pmatrix}_{u = u_I^*, v = v_I^*}\n",
    "$$\n",
    "\n",
    "evaluated at the fixed points $u = u_I^*, v = v_I^*$, for $I = 0$ and $I = 0.5$. What do you observe?\n",
    "\n",
    "*You may use NumPy built-in functions to compute eigenvalues.*\n",
    "\n",
    "\n",
    "**[3 marks]**"
   ]
  },
  {
   "cell_type": "code",
   "execution_count": 100,
   "metadata": {},
   "outputs": [
    {
     "ename": "TypeError",
     "evalue": "Jac() takes 2 positional arguments but 3 were given",
     "output_type": "error",
     "traceback": [
      "\u001b[0;31m---------------------------------------------------------------------------\u001b[0m",
      "\u001b[0;31mTypeError\u001b[0m                                 Traceback (most recent call last)",
      "\u001b[0;32m<ipython-input-100-0b4923c1b6df>\u001b[0m in \u001b[0;36m<module>\u001b[0;34m\u001b[0m\n\u001b[1;32m     12\u001b[0m \u001b[0;34m\u001b[0m\u001b[0m\n\u001b[1;32m     13\u001b[0m \u001b[0;31m# Case 1: I = 0\u001b[0m\u001b[0;34m\u001b[0m\u001b[0;34m\u001b[0m\u001b[0;34m\u001b[0m\u001b[0m\n\u001b[0;32m---> 14\u001b[0;31m \u001b[0muv_1\u001b[0m \u001b[0;34m=\u001b[0m \u001b[0mresting_state\u001b[0m\u001b[0;34m(\u001b[0m\u001b[0;36m0.2\u001b[0m\u001b[0;34m,\u001b[0m \u001b[0;36m0.2\u001b[0m\u001b[0;34m,\u001b[0m \u001b[0;36m0\u001b[0m\u001b[0;34m,\u001b[0m \u001b[0;36m0.8\u001b[0m\u001b[0;34m)\u001b[0m\u001b[0;34m\u001b[0m\u001b[0;34m\u001b[0m\u001b[0m\n\u001b[0m\u001b[1;32m     15\u001b[0m \u001b[0mj_1\u001b[0m \u001b[0;34m=\u001b[0m \u001b[0mJac\u001b[0m\u001b[0;34m(\u001b[0m\u001b[0muv_1\u001b[0m\u001b[0;34m[\u001b[0m\u001b[0;36m0\u001b[0m\u001b[0;34m]\u001b[0m\u001b[0;34m,\u001b[0m \u001b[0muv_1\u001b[0m\u001b[0;34m[\u001b[0m\u001b[0;36m1\u001b[0m\u001b[0;34m]\u001b[0m\u001b[0;34m)\u001b[0m\u001b[0;34m\u001b[0m\u001b[0;34m\u001b[0m\u001b[0m\n\u001b[1;32m     16\u001b[0m \u001b[0meigenvalue_A\u001b[0m \u001b[0;34m=\u001b[0m \u001b[0mnp\u001b[0m\u001b[0;34m.\u001b[0m\u001b[0mlinalg\u001b[0m\u001b[0;34m.\u001b[0m\u001b[0meig\u001b[0m\u001b[0;34m(\u001b[0m\u001b[0mj_1\u001b[0m\u001b[0;34m)\u001b[0m\u001b[0;34m[\u001b[0m\u001b[0;36m0\u001b[0m\u001b[0;34m]\u001b[0m\u001b[0;34m\u001b[0m\u001b[0;34m\u001b[0m\u001b[0m\n",
      "\u001b[0;32m<ipython-input-98-e52096003065>\u001b[0m in \u001b[0;36mresting_state\u001b[0;34m(u0, v0, I, gamma)\u001b[0m\n\u001b[1;32m     26\u001b[0m     \u001b[0;31m#Use Newton's method\u001b[0m\u001b[0;34m\u001b[0m\u001b[0;34m\u001b[0m\u001b[0;34m\u001b[0m\u001b[0m\n\u001b[1;32m     27\u001b[0m     \u001b[0;32mwhile\u001b[0m \u001b[0mnp\u001b[0m\u001b[0;34m.\u001b[0m\u001b[0mlinalg\u001b[0m\u001b[0;34m.\u001b[0m\u001b[0mnorm\u001b[0m\u001b[0;34m(\u001b[0m\u001b[0mFs\u001b[0m\u001b[0;34m(\u001b[0m\u001b[0mx\u001b[0m\u001b[0;34m[\u001b[0m\u001b[0;36m0\u001b[0m\u001b[0;34m]\u001b[0m\u001b[0;34m,\u001b[0m \u001b[0mx\u001b[0m\u001b[0;34m[\u001b[0m\u001b[0;36m1\u001b[0m\u001b[0;34m]\u001b[0m\u001b[0;34m,\u001b[0m \u001b[0mI\u001b[0m\u001b[0;34m,\u001b[0m \u001b[0mgamma\u001b[0m\u001b[0;34m)\u001b[0m\u001b[0;34m)\u001b[0m \u001b[0;34m>\u001b[0m \u001b[0;36m1e-10\u001b[0m\u001b[0;34m:\u001b[0m\u001b[0;34m\u001b[0m\u001b[0;34m\u001b[0m\u001b[0m\n\u001b[0;32m---> 28\u001b[0;31m         \u001b[0me\u001b[0m \u001b[0;34m=\u001b[0m \u001b[0;34m-\u001b[0m\u001b[0mnp\u001b[0m\u001b[0;34m.\u001b[0m\u001b[0mlinalg\u001b[0m\u001b[0;34m.\u001b[0m\u001b[0msolve\u001b[0m\u001b[0;34m(\u001b[0m\u001b[0mJac\u001b[0m\u001b[0;34m(\u001b[0m\u001b[0mx\u001b[0m\u001b[0;34m[\u001b[0m\u001b[0;36m0\u001b[0m\u001b[0;34m]\u001b[0m\u001b[0;34m,\u001b[0m \u001b[0mx\u001b[0m\u001b[0;34m[\u001b[0m\u001b[0;36m1\u001b[0m\u001b[0;34m]\u001b[0m\u001b[0;34m,\u001b[0m \u001b[0mgamma\u001b[0m\u001b[0;34m)\u001b[0m\u001b[0;34m,\u001b[0m \u001b[0mFs\u001b[0m\u001b[0;34m(\u001b[0m\u001b[0mx\u001b[0m\u001b[0;34m[\u001b[0m\u001b[0;36m0\u001b[0m\u001b[0;34m]\u001b[0m\u001b[0;34m,\u001b[0m \u001b[0mx\u001b[0m\u001b[0;34m[\u001b[0m\u001b[0;36m1\u001b[0m\u001b[0;34m]\u001b[0m\u001b[0;34m,\u001b[0m \u001b[0mI\u001b[0m\u001b[0;34m,\u001b[0m \u001b[0mgamma\u001b[0m\u001b[0;34m)\u001b[0m\u001b[0;34m)\u001b[0m\u001b[0;34m\u001b[0m\u001b[0;34m\u001b[0m\u001b[0m\n\u001b[0m\u001b[1;32m     29\u001b[0m         \u001b[0mx\u001b[0m \u001b[0;34m+=\u001b[0m \u001b[0me\u001b[0m\u001b[0;34m\u001b[0m\u001b[0;34m\u001b[0m\u001b[0m\n\u001b[1;32m     30\u001b[0m     \u001b[0;32mreturn\u001b[0m \u001b[0mx\u001b[0m\u001b[0;34m\u001b[0m\u001b[0;34m\u001b[0m\u001b[0m\n",
      "\u001b[0;31mTypeError\u001b[0m: Jac() takes 2 positional arguments but 3 were given"
     ]
    }
   ],
   "source": [
    "import numpy as np\n",
    "\n",
    "def Jac(u, v):\n",
    "    # Initialize J\n",
    "    J = np.zeros([2,2])\n",
    "    # Define the jacobian matrix\n",
    "    J[0, 0] = 1 / 0.2 * (1 - u ** 2)\n",
    "    J[0, 1] = -5\n",
    "    J[1, 0] = 0.2\n",
    "    J[1, 1] = -0.16\n",
    "    return J\n",
    "\n",
    "# Case 1: I = 0\n",
    "uv_1 = resting_state(0.2, 0.2, 0, 0.8)\n",
    "j_1 = Jac(uv_1[0], uv_1[1])\n",
    "eigenvalue_A = np.linalg.eig(j_1)[0]\n",
    "# Display the value of eigenvalue\n",
    "print('If I = 0, the eigenvalue will be', eigenvalue_A)\n",
    "\n",
    "# Case 2: I = 0.5\n",
    "uv_2 = resting_state(0.2, 0.2, 0.5, 0.8)\n",
    "j_2 = Jac(uv_2[0], uv_2[1])\n",
    "eigenvalue_B = np.linalg.eig(j_2)[0]\n",
    "# Display the value of eigenvalue\n",
    "print('If I = 0.5, the eigenvalue will be', eigenvalue_B)"
   ]
  },
  {
   "cell_type": "markdown",
   "metadata": {},
   "source": [
    "***📝 Discussion for question 3.3***"
   ]
  },
  {
   "cell_type": "markdown",
   "metadata": {},
   "source": [
    "**3.4** For this question, we set $I = 0$ and $\\gamma = 5$.\n",
    "\n",
    "(a) Use the function `resting_state()` you wrote for **3.1** to find three fixed points, $(u_{(0)}^*, v_{(0)}^*)$, $(u_{(1)}^*, v_{(1)}^*)$ and $(u_{(2)}^*, v_{(2)}^*)$, using the initial conditions provided in the NumPy array `uv0` below (each row of the array constitutes a pair of initial conditions for one of the three fixed points).\n",
    "\n",
    "(b) Compute the numerical solution $(u_n, v_n), n=0, 1, 2, \\dots$ using the initial condition $(u_{(0)}^* + \\delta, v_{(0)}^* + \\delta)$, for $\\delta \\in \\{0, 0.3, 0.6, 1.0\\}$. This simulates the activity of a cell starting at a small perturbation $\\delta$ of one of its resting states, in this case $(u_{(0)}^*, v_{(0)}^*)$.\n",
    "\n",
    "Plot your results in a similar way as in question **3.2**, and discuss your observations in less than 150 words. In particular, does the solution always return to the same fixed point, i.e. the same resting state?\n",
    "\n",
    "**[5 marks]**"
   ]
  },
  {
   "cell_type": "code",
   "execution_count": null,
   "metadata": {},
   "outputs": [],
   "source": [
    "import numpy as np\n",
    "\n",
    "# Initial conditions\n",
    "uv0 = np.array([[0.83928724, 0.64551717],\n",
    "                [0.03831243, 0.43144263],\n",
    "                [-1.7232432, -0.2604498]])\n",
    "\n"
   ]
  },
  {
   "cell_type": "markdown",
   "metadata": {},
   "source": [
    "***📝 Discussion for question 3.4***"
   ]
  }
 ],
 "metadata": {
  "kernelspec": {
   "display_name": "Python 3",
   "language": "python",
   "name": "python3"
  },
  "language_info": {
   "codemirror_mode": {
    "name": "ipython",
    "version": 3
   },
   "file_extension": ".py",
   "mimetype": "text/x-python",
   "name": "python",
   "nbconvert_exporter": "python",
   "pygments_lexer": "ipython3",
   "version": "3.8.5"
  }
 },
 "nbformat": 4,
 "nbformat_minor": 4
}
